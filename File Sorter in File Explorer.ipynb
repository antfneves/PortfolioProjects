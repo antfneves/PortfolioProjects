{
 "cells": [
  {
   "cell_type": "markdown",
   "id": "58e22e15",
   "metadata": {},
   "source": [
    "                      Automatic File Sorter in File Explorer "
   ]
  },
  {
   "cell_type": "code",
   "execution_count": null,
   "id": "0647ceda",
   "metadata": {},
   "outputs": [],
   "source": [
    "\n",
    "import os, shutil"
   ]
  },
  {
   "cell_type": "code",
   "execution_count": 10,
   "id": "865f090c",
   "metadata": {},
   "outputs": [],
   "source": [
    "path = r\"C:/Users/To/OneDrive/Área de Trabalho/Cursos/Test/\""
   ]
  },
  {
   "cell_type": "code",
   "execution_count": 11,
   "id": "f078efb3",
   "metadata": {},
   "outputs": [],
   "source": [
    "file_name = os.listdir(path) "
   ]
  },
  {
   "cell_type": "code",
   "execution_count": 4,
   "id": "1b1e2530",
   "metadata": {},
   "outputs": [],
   "source": [
    "folder_names = ['csv_files' , 'jpg_files' , 'text_files' ] "
   ]
  },
  {
   "cell_type": "code",
   "execution_count": 12,
   "id": "4fdb976d",
   "metadata": {},
   "outputs": [],
   "source": [
    "for loop in range (0,3):\n",
    "    if not os.path.exists(path + folder_names[loop]):\n",
    "        print(path + folder_names[loop])\n",
    "        os.makedirs(path + folder_names[loop])"
   ]
  },
  {
   "cell_type": "code",
   "execution_count": 14,
   "id": "4384ddbb",
   "metadata": {},
   "outputs": [],
   "source": [
    "for file in file_name:\n",
    "    if \".csv\" in file and not os.path.exists(path + \"csv_files/\" + file):\n",
    "        shutil.move(path + file, path + \"csv_files/\" + file)\n",
    "    elif \".jpg\" in file and not os.path.exists(path + \"jpg_files/\" + file):\n",
    "        shutil.move(path + file, path + \"jpg_files/\" + file)\n",
    "    elif \".txt\" in file and not os.path.exists(path + \"text_files/\" + file):\n",
    "        shutil.move(path + file, path + \"text_files/\" + file)"
   ]
  },
  {
   "cell_type": "code",
   "execution_count": null,
   "id": "7338602b",
   "metadata": {},
   "outputs": [],
   "source": []
  }
 ],
 "metadata": {
  "kernelspec": {
   "display_name": "Python 3 (ipykernel)",
   "language": "python",
   "name": "python3"
  },
  "language_info": {
   "codemirror_mode": {
    "name": "ipython",
    "version": 3
   },
   "file_extension": ".py",
   "mimetype": "text/x-python",
   "name": "python",
   "nbconvert_exporter": "python",
   "pygments_lexer": "ipython3",
   "version": "3.9.13"
  }
 },
 "nbformat": 4,
 "nbformat_minor": 5
}
