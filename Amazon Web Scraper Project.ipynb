{
 "cells": [
  {
   "cell_type": "code",
   "execution_count": null,
   "id": "b1f8b997",
   "metadata": {},
   "outputs": [],
   "source": [
    "#import libraries\n",
    "\n",
    "from bs4 import BeautifulSoup\n",
    "import requests\n",
    "import time\n",
    "import datetime\n",
    "import smtplib"
   ]
  },
  {
   "cell_type": "code",
   "execution_count": null,
   "id": "be61f31b",
   "metadata": {},
   "outputs": [],
   "source": [
    "#connect to website\n",
    "\n",
    "url = 'https://www.amazon.com/Game-Apparel-Football-Loudest-Classic/dp/B07ZQXGQS4/ref=d_coffee_espresso_apparel_vft_none_sccl_2_2/143-0175538-6314759?pd_rd_w=8FJdP&content-id=amzn1.sym.1a72b856-cd5f-4bde-a1ea-d5c03a323353&pf_rd_p=1a72b856-cd5f-4bde-a1ea-d5c03a323353&pf_rd_r=G9AEN2R1JSCG25EXRBC9&pd_rd_wg=RsfL8&pd_rd_r=b55b25f5-d0be-4db3-881e-1d11f0836e47&pd_rd_i=B07ZQXGQS4&psc=1'\n",
    "headers = {\"User-Agent\": \"Mozilla/5.0 (Windows NT 10.0; Win64; x64) AppleWebKit/537.36 (KHTML, like Gecko) Chrome/111.0.0.0 Safari/537.36\", \"Accept-Encoding\":\"gzip, deflate\", \"Accept\":\"text/html,application/xhtml+xml,application/xml;q=0.9,*/*;q=0.8\", \"DNT\":\"1\",\"Connection\":\"close\", \"Upgrade-Insecure-Requests\":\"1\"}\n",
    "page = requests.get(url, headers=headers)\n",
    "           \n",
    "soup1 = BeautifulSoup(page.content,'html.parser')\n",
    "soup2 = BeautifulSoup(soup1.prettify(),'html.parser')\n",
    "title = soup2.find(id='productTitle').get_text()\n",
    "price = soup2.find(id='corePriceDisplay_desktop_feature_div').get_text()\n",
    "           \n",
    "\n",
    "           "
   ]
  },
  {
   "cell_type": "code",
   "execution_count": null,
   "id": "e8401ca1",
   "metadata": {},
   "outputs": [],
   "source": [
    "# Clean up the data\n",
    "\n",
    "price = price.strip()[1:6]\n",
    "title = title.strip()\n",
    "\n",
    "print(title)\n",
    "print(price)\n",
    "\n",
    "\n",
    "             "
   ]
  },
  {
   "cell_type": "code",
   "execution_count": null,
   "id": "6666d25a",
   "metadata": {},
   "outputs": [],
   "source": [
    "# Create a Timestamp for your output to track when data was collected\n",
    "\n",
    "today = datetime.date.today()\n",
    "print(today)"
   ]
  },
  {
   "cell_type": "code",
   "execution_count": null,
   "id": "59db0b78",
   "metadata": {},
   "outputs": [],
   "source": [
    "# Create CSV and write headers and data into the file\n",
    "\n",
    "import csv\n",
    "\n",
    "header = ['Title', 'Price', 'Date']\n",
    "data = [title, price, today]\n",
    "\n",
    "with open('AmazonWebScraperDataset.csv', 'w', newline = '', encoding = 'UTF8' ) as f:\n",
    "    writer = csv.writer(f)\n",
    "    writer.writerow(header)\n",
    "    writer.writerow(data)"
   ]
  },
  {
   "cell_type": "code",
   "execution_count": null,
   "id": "933f83fb",
   "metadata": {},
   "outputs": [],
   "source": [
    "import pandas as pd\n",
    "\n",
    "df = pd.read_csv(r'C:\\Users\\To\\AmazonWebScraperDataset.csv')\n",
    "print(df)"
   ]
  },
  {
   "cell_type": "code",
   "execution_count": null,
   "id": "5b521269",
   "metadata": {},
   "outputs": [],
   "source": [
    "#Appending data to the csv\n",
    "\n",
    "with open('AmazonWebScraperDataset.csv', 'a+', newline = '', encoding = 'UTF8' ) as f:\n",
    "    writer = csv.writer(f)\n",
    "    writer.writerow(data)"
   ]
  },
  {
   "cell_type": "code",
   "execution_count": null,
   "id": "1543de2e",
   "metadata": {},
   "outputs": [],
   "source": [
    "#Combine all of the above code into one function\n",
    "\n",
    "def check_price():\n",
    "    url = 'https://www.amazon.com/Game-Apparel-Football-Loudest-Classic/dp/B07ZQXGQS4/ref=d_coffee_espresso_apparel_vft_none_sccl_2_2/143-0175538-6314759?pd_rd_w=8FJdP&content-id=amzn1.sym.1a72b856-cd5f-4bde-a1ea-d5c03a323353&pf_rd_p=1a72b856-cd5f-4bde-a1ea-d5c03a323353&pf_rd_r=G9AEN2R1JSCG25EXRBC9&pd_rd_wg=RsfL8&pd_rd_r=b55b25f5-d0be-4db3-881e-1d11f0836e47&pd_rd_i=B07ZQXGQS4&psc=1'\n",
    "    headers = {\"User-Agent\": \"Mozilla/5.0 (Windows NT 10.0; Win64; x64) AppleWebKit/537.36 (KHTML, like Gecko) Chrome/111.0.0.0 Safari/537.36\", \"Accept-Encoding\":\"gzip, deflate\", \"Accept\":\"text/html,application/xhtml+xml,application/xml;q=0.9,*/*;q=0.8\", \"DNT\":\"1\",\"Connection\":\"close\", \"Upgrade-Insecure-Requests\":\"1\"}\n",
    "    page = requests.get(url, headers=headers)\n",
    "           \n",
    "    soup1 = BeautifulSoup(page.content,'html.parser')\n",
    "    soup2 = BeautifulSoup(soup1.prettify(),'html.parser')\n",
    "    title = soup2.find(id='productTitle').get_text()\n",
    "    price = soup2.find(id='corePriceDisplay_desktop_feature_div').get_text()\n",
    "    \n",
    "    price = price.strip()[1:6]\n",
    "    title = title.strip()\n",
    "    \n",
    "    today = datetime.date.today()\n",
    "    \n",
    "    import csv\n",
    "\n",
    "    header = ['Title', 'Price', 'Date']\n",
    "    data = [title, price, today]\n",
    "\n",
    "    with open('AmazonWebScraperDataset.csv', 'a+', newline = '', encoding = 'UTF8' ) as f:\n",
    "        writer = csv.writer(f)\n",
    "        writer.writerow(data)\n",
    "        \n",
    "    if (price < 20):\n",
    "        send_mail()\n",
    "   \n",
    "           "
   ]
  },
  {
   "cell_type": "code",
   "execution_count": null,
   "id": "6d68b35b",
   "metadata": {},
   "outputs": [],
   "source": [
    "#Runs check_price after a set time and inputs data into your CSV\n",
    "\n",
    "while(True):\n",
    "    check_price()\n",
    "    time.sleep(86400)"
   ]
  },
  {
   "cell_type": "code",
   "execution_count": null,
   "id": "429811f4",
   "metadata": {},
   "outputs": [],
   "source": [
    "import pandas as pd\n",
    "df = pd.read_csv(r'C:\\Users\\To\\AmazonWebScraperDataset.csv')\n",
    "print(df)"
   ]
  },
  {
   "cell_type": "code",
   "execution_count": null,
   "id": "21973abd",
   "metadata": {},
   "outputs": [],
   "source": [
    "# sending yourself an email when a price hits below 20\n",
    "\n",
    "\n",
    "def send_mail():\n",
    "    server = smtplib.SMTP_SSL('smtp.gmail.com',465)\n",
    "    server.ehlo()\n",
    "    #server.starttls()\n",
    "    server.ehlo()\n",
    "    server.login('tonifarinha@gmail.com','xxxxxxxxxxxxxx')\n",
    "    \n",
    "    subject = \"The Shirt you want is below $20! Now is your chance to buy!\"\n",
    "    body = \"This is the moment we have been waiting for. Now is your chance to pick up the shirt of your dreams. Link here: https://www.amazon.com/Game-Apparel-Football-Loudest-Classic/dp/B07ZQXGQS4/ref=d_coffee_espresso_apparel_vft_none_sccl_2_2/143-0175538-6314759?pd_rd_w=8FJdP&content-id=amzn1.sym.1a72b856-cd5f-4bde-a1ea-d5c03a323353&pf_rd_p=1a72b856-cd5f-4bde-a1ea-d5c03a323353&pf_rd_r=G9AEN2R1JSCG25EXRBC9&pd_rd_wg=RsfL8&pd_rd_r=b55b25f5-d0be-4db3-881e-1d11f0836e47&pd_rd_i=B07ZQXGQS4&psc=1\"\n",
    "   \n",
    "    msg = f\"Subject: {subject}\\n\\n{body}\"\n",
    "    \n",
    "    server.sendmail(\n",
    "        'tonifarinha@gmail.com',\n",
    "        msg\n",
    "     \n",
    "    )"
   ]
  }
 ],
 "metadata": {
  "kernelspec": {
   "display_name": "Python 3 (ipykernel)",
   "language": "python",
   "name": "python3"
  },
  "language_info": {
   "codemirror_mode": {
    "name": "ipython",
    "version": 3
   },
   "file_extension": ".py",
   "mimetype": "text/x-python",
   "name": "python",
   "nbconvert_exporter": "python",
   "pygments_lexer": "ipython3",
   "version": "3.9.13"
  }
 },
 "nbformat": 4,
 "nbformat_minor": 5
}
